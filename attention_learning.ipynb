{
 "cells": [
  {
   "cell_type": "code",
   "execution_count": 9,
   "metadata": {},
   "outputs": [],
   "source": [
    "import numpy as np\n",
    "import torch.nn as nn\n",
    "import torch"
   ]
  },
  {
   "cell_type": "code",
   "execution_count": 13,
   "metadata": {},
   "outputs": [
    {
     "data": {
      "image/png": "[encoded data removed]",
      "text/plain": [
       "<Figure size 640x480 with 1 Axes>"
      ]
     },
     "metadata": {},
     "output_type": "display_data"
    }
   ],
   "source": [
    "from skimage import data\n",
    "from skimage.transform import resize\n",
    "\n",
    "import matplotlib.pyplot as plt\n",
    "\n",
    "# Load a sample grayscale camera image and resize it to 64x64\n",
    "camera = data.camera()  # Using a sample grayscale image\n",
    "camera_resized = resize(camera, (64, 64), anti_aliasing=True)\n",
    "\n",
    "# Display the image\n",
    "plt.imshow(camera_resized, cmap='gray')\n",
    "plt.axis('off')\n",
    "plt.show()\n",
    "\n",
    "# Store the image as a matrix\n",
    "image_matrix = camera_resized"
   ]
  },
  {
   "cell_type": "code",
   "execution_count": 33,
   "metadata": {},
   "outputs": [
    {
     "name": "stdout",
     "output_type": "stream",
     "text": [
      "Number of patches: 16\n",
      "Shape of each patch: (16, 16)\n"
     ]
    }
   ],
   "source": [
    "# Tokenize image_matrix into 16x16 patches\n",
    "patch_size = 16\n",
    "patches = [\n",
    "    image_matrix[i:i + patch_size, j:j + patch_size]\n",
    "    for i in range(0, image_matrix.shape[0], patch_size)\n",
    "    for j in range(0, image_matrix.shape[1], patch_size)\n",
    "]\n",
    "\n",
    "# Convert the list of patches into a NumPy array\n",
    "patches = np.array(patches)\n",
    "\n",
    "print(f\"Number of patches: {patches.shape[0]}\")\n",
    "print(f\"Shape of each patch: {patches[0].shape}\")"
   ]
  },
  {
   "cell_type": "code",
   "execution_count": 39,
   "metadata": {},
   "outputs": [
    {
     "data": {
      "image/png": "[encoded data removed]",
      "text/plain": [
       "<Figure size 1600x200 with 1 Axes>"
      ]
     },
     "metadata": {},
     "output_type": "display_data"
    }
   ],
   "source": [
    "# Reshape patches into a grid of 1 row and 16 columns\n",
    "grid = np.hstack(patches[:-1])\n",
    "\n",
    "# Display the grid\n",
    "plt.figure(figsize=(16, 2))\n",
    "plt.imshow(grid, cmap='gray')\n",
    "plt.axis('off')\n",
    "plt.show()"
   ]
  },
  {
   "cell_type": "code",
   "execution_count": null,
   "metadata": {},
   "outputs": [
    {
     "name": "stdout",
     "output_type": "stream",
     "text": [
      "Shape of flattened patches: torch.Size([16, 256])\n",
      "Linear(in_features=256, out_features=384, bias=True)\n"
     ]
    }
   ],
   "source": [
    "# Flatten the patches into a 2D tensor\n",
    "flattened_patches = torch.tensor(patches.reshape(patches.shape[0], -1), dtype=torch.float32)\n",
    "print(f\"Shape of flattened patches: {flattened_patches.shape}\")\n",
    "# Define a linear layer for projecting the patches\n",
    "qkv = nn.Linear(\n",
    "    in_features=flattened_patches.shape[-1],\n",
    "    out_features=128*3 #128 channels per matrix: query, key, value\n",
    " )\n",
    "\n",
    "proj = nn.Linear( 128, 128 )\n",
    "\n",
    "B, N, C = x.shape\n",
    "## Dimensions: (batch, num_tokens, token_len)\n",
    "\n",
    "## Calcuate QKVs\n",
    "qkv = qkv(x).reshape(B, N, 3, num_heads, head_dim).permute(2, 0, 3, 1, 4)\n",
    "#### Dimensions: (3, batch, heads, num_tokens, chan/num_heads = head_dim)\n",
    "q, k, v = qkv[0], qkv[1], qkv[2]\n",
    "\n",
    "## Calculate Attention\n",
    "attn = (q * scale) @ k.transpose(-2, -1)\n",
    "attn = attn.softmax(dim=-1)\n",
    "#### Dimensions: (batch, heads, num_tokens, num_tokens)\n",
    "\n",
    "## Attention Layer\n",
    "x = (attn @ v).transpose(1, 2).reshape(B, N, chan)\n",
    "#### Dimensions: (batch, heads, num_tokens, chan)\n",
    "\n",
    "## Projection Layers\n",
    "x = proj(x)\n",
    "\n",
    "## Skip Connection Layer\n",
    "v = v.transpose(1, 2).reshape(B, N, chan)\n",
    "x = v + x     "
   ]
  }
 ],
 "metadata": {
  "kernelspec": {
   "display_name": "Python 3",
   "language": "python",
   "name": "python3"
  },
  "language_info": {
   "codemirror_mode": {
    "name": "ipython",
    "version": 3
   },
   "file_extension": ".py",
   "mimetype": "text/x-python",
   "name": "python",
   "nbconvert_exporter": "python",
   "pygments_lexer": "ipython3",
   "version": "3.12.9"
  }
 },
 "nbformat": 4,
 "nbformat_minor": 2
}
